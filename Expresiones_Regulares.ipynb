{
  "nbformat": 4,
  "nbformat_minor": 0,
  "metadata": {
    "colab": {
      "provenance": [],
      "authorship_tag": "ABX9TyPkSaXtYQ4H4ndxzXOnP3Tp",
      "include_colab_link": true
    },
    "kernelspec": {
      "name": "python3",
      "display_name": "Python 3"
    },
    "language_info": {
      "name": "python"
    }
  },
  "cells": [
    {
      "cell_type": "markdown",
      "metadata": {
        "id": "view-in-github",
        "colab_type": "text"
      },
      "source": [
        "<a href=\"https://colab.research.google.com/github/artthuro6/Regex/blob/main/Expresiones_Regulares.ipynb\" target=\"_parent\"><img src=\"https://colab.research.google.com/assets/colab-badge.svg\" alt=\"Open In Colab\"/></a>"
      ]
    },
    {
      "cell_type": "code",
      "execution_count": 2,
      "metadata": {
        "id": "FXL-Wnphkv7S"
      },
      "outputs": [],
      "source": [
        "import re"
      ]
    },
    {
      "cell_type": "code",
      "source": [
        "text = 'Hola mundo1996'\n",
        "text2 = 'Los archivos de 10101Python se llaman módulos 09092y se identifican 12345mediante la 123extensión de archivo .py. Un módulo puede definir funciones, clases y variables.'\n",
        "text3 = ' Todoas 1998 123.com @gail .hotmail'\n",
        "exadecimal = '0123456789ABCDEF1112131415161718191A1B1C1S1E1FA1A2A3A4'"
      ],
      "metadata": {
        "id": "5RRAZQRemb-4"
      },
      "execution_count": 3,
      "outputs": []
    },
    {
      "cell_type": "markdown",
      "source": [
        "\n",
        "### Utilizar un . Selecciona todos los caracteres dentro del texto"
      ],
      "metadata": {
        "id": "_i8KzyKGRDrF"
      }
    },
    {
      "cell_type": "code",
      "source": [
        "x = re.findall(\".\", text)\n",
        "print(x)\n"
      ],
      "metadata": {
        "colab": {
          "base_uri": "https://localhost:8080/"
        },
        "id": "uynAb3dfpQTi",
        "outputId": "aab55775-077d-435a-8e93-1abf86d0754e"
      },
      "execution_count": 4,
      "outputs": [
        {
          "output_type": "stream",
          "name": "stdout",
          "text": [
            "['H', 'o', 'l', 'a', ' ', 'm', 'u', 'n', 'd', 'o', '1', '9', '9', '6']\n"
          ]
        }
      ]
    },
    {
      "cell_type": "markdown",
      "source": [
        "### DIGITOS\n",
        "\n",
        "###Selecciona todo los digitos usando d iniscula"
      ],
      "metadata": {
        "id": "dSPHQzHTVtMd"
      }
    },
    {
      "cell_type": "code",
      "source": [
        "# \\d - Toodos loos digitos del 0 al 9\n",
        "x = re.findall('\\d', text)\n",
        "print( x )"
      ],
      "metadata": {
        "id": "c-4vB-wcvK6U",
        "colab": {
          "base_uri": "https://localhost:8080/"
        },
        "outputId": "e8efb1c6-5d80-4713-c15b-761348545b8e"
      },
      "execution_count": 5,
      "outputs": [
        {
          "output_type": "stream",
          "name": "stdout",
          "text": [
            "['1', '9', '9', '6']\n"
          ]
        }
      ]
    },
    {
      "cell_type": "code",
      "source": [
        "# w - Todos los caracteres de la A - Z. ayuscula y minuscula. Y del 0 al 9\n",
        "print( re.findall('\\w', text) )"
      ],
      "metadata": {
        "colab": {
          "base_uri": "https://localhost:8080/"
        },
        "id": "8vbiC92TUOS5",
        "outputId": "ab91b003-5429-4564-a2a1-7ed51656c4cd"
      },
      "execution_count": 6,
      "outputs": [
        {
          "output_type": "stream",
          "name": "stdout",
          "text": [
            "['H', 'o', 'l', 'a', 'm', 'u', 'n', 'd', 'o', '1', '9', '9', '6']\n"
          ]
        }
      ]
    },
    {
      "cell_type": "code",
      "source": [
        "# \\s - Seleccionar los espacios\n",
        "print( re.findall('\\s', text2) )"
      ],
      "metadata": {
        "id": "ZYHllblDWjwq",
        "colab": {
          "base_uri": "https://localhost:8080/"
        },
        "outputId": "a199d638-93a2-4636-c050-b2d3dadaf891"
      },
      "execution_count": 7,
      "outputs": [
        {
          "output_type": "stream",
          "name": "stdout",
          "text": [
            "[' ', ' ', ' ', ' ', ' ', ' ', ' ', ' ', ' ', ' ', ' ', ' ', ' ', ' ', ' ', ' ', ' ', ' ', ' ', ' ', ' ', ' ', ' ']\n"
          ]
        }
      ]
    },
    {
      "cell_type": "code",
      "source": [
        "#[0-9] - Seleccionando todos los digitos especificammente del 0 al 9\n",
        "print( re.findall('[0-9]', text2) )"
      ],
      "metadata": {
        "colab": {
          "base_uri": "https://localhost:8080/"
        },
        "id": "7xKUp0YFXXWv",
        "outputId": "dec7c784-158c-49fd-84b0-40b3971ead8d"
      },
      "execution_count": 8,
      "outputs": [
        {
          "output_type": "stream",
          "name": "stdout",
          "text": [
            "['1', '0', '1', '0', '1', '0', '9', '0', '9', '2', '1', '2', '3', '4', '5', '1', '2', '3']\n"
          ]
        }
      ]
    },
    {
      "cell_type": "markdown",
      "source": [
        "### Caracteres"
      ],
      "metadata": {
        "id": "9Q_YduXgYiOr"
      }
    },
    {
      "cell_type": "code",
      "source": [
        "# \\. - Escapara caracter (Punto como ejemplo)\n",
        "print( re.findall('[0-9\\.]', text3) )"
      ],
      "metadata": {
        "colab": {
          "base_uri": "https://localhost:8080/"
        },
        "id": "nVA2mr3XXx2_",
        "outputId": "52932480-f913-4594-f509-20a8a828d9f0"
      },
      "execution_count": 9,
      "outputs": [
        {
          "output_type": "stream",
          "name": "stdout",
          "text": [
            "['1', '9', '9', '8', '1', '2', '3', '.', '.']\n"
          ]
        }
      ]
    },
    {
      "cell_type": "code",
      "source": [
        "print( re.findall('[1-9A-F]{2}', exadecimal) )"
      ],
      "metadata": {
        "colab": {
          "base_uri": "https://localhost:8080/"
        },
        "id": "V4rRknbNZJZ5",
        "outputId": "4df1abe6-5a24-48a0-f16a-cc5376d74369"
      },
      "execution_count": 10,
      "outputs": [
        {
          "output_type": "stream",
          "name": "stdout",
          "text": [
            "['12', '34', '56', '78', '9A', 'BC', 'DE', 'F1', '11', '21', '31', '41', '51', '61', '71', '81', '91', 'A1', 'B1', 'C1', '1E', '1F', 'A1', 'A2', 'A3', 'A4']\n"
          ]
        }
      ]
    },
    {
      "cell_type": "code",
      "source": [],
      "metadata": {
        "id": "yZmkhHlvbVRI"
      },
      "execution_count": 10,
      "outputs": []
    },
    {
      "cell_type": "markdown",
      "source": [
        "### Delimitadores\n",
        "\n",
        "(*)  --> Cero o muchos\n",
        "\n",
        "(+) --> Uno o muchos\n",
        "\n",
        "(?) -->  Cero o uno"
      ],
      "metadata": {
        "id": "6nevhzJycFRl"
      }
    },
    {
      "cell_type": "code",
      "source": [
        "# Selecciona un o as digitos y al final contenga una letra\n",
        "print( re.findall('\\d+[a-z]', text2) )"
      ],
      "metadata": {
        "colab": {
          "base_uri": "https://localhost:8080/"
        },
        "id": "sV5ghtjmcHBo",
        "outputId": "e7227470-6699-4138-e8b5-8d870c92824c"
      },
      "execution_count": 11,
      "outputs": [
        {
          "output_type": "stream",
          "name": "stdout",
          "text": [
            "['09092y', '12345m', '123e']\n"
          ]
        }
      ]
    },
    {
      "cell_type": "markdown",
      "source": [
        "### Contadores\n",
        "\n",
        "{ Limite inferios, Limite superior }\n",
        "\n",
        "Se coloca dentro de los corchetes, en la primera poscion, el numero minimo de caracteres o digitos que se buscaran.\n",
        "Segun posicion, el numero maximo de caractares a buscar.\n",
        "\n"
      ],
      "metadata": {
        "id": "6TVnZhJo7Di0"
      }
    },
    {
      "cell_type": "code",
      "source": [
        "nu = '2227461866'\n",
        "nu2 =  '22-27-46-18-66'"
      ],
      "metadata": {
        "id": "5fuPZt6bdIJf"
      },
      "execution_count": 18,
      "outputs": []
    },
    {
      "cell_type": "code",
      "source": [
        "rege_x = '\\d{2,2}[\\-\\. ]{0,1}\\d{2,2}[\\-\\. ]{0,1}'    # Selecciona un digito de 2 en 2, que pueda tener un guion o punto o espacio.\n",
        "print( re.findall(rege_x, nu) )\n",
        "print( re.findall(rege_x, nu2) )"
      ],
      "metadata": {
        "colab": {
          "base_uri": "https://localhost:8080/"
        },
        "id": "4S5qknUG-fO9",
        "outputId": "55d3d0b6-b253-4380-f3d4-57a5b73003e8"
      },
      "execution_count": 25,
      "outputs": [
        {
          "output_type": "stream",
          "name": "stdout",
          "text": [
            "['2227', '4618']\n",
            "['22-27-', '46-18-']\n"
          ]
        }
      ]
    },
    {
      "cell_type": "code",
      "source": [
        "# El signo ?, como Delimitador\n",
        "csv1 = 'abc,def,hti,jkl'\n",
        "csv2 = '123,456,789 '\n",
        "\n",
        "# Selecciona uno o mas caracteres. Que puedan o no tener comas, espacios, saltos de linea\n",
        "rege_x = '.+?[, \\n]{1,1}?'\n",
        "print( re.findall(rege_x, csv1) )"
      ],
      "metadata": {
        "colab": {
          "base_uri": "https://localhost:8080/"
        },
        "id": "6NHTnm3eALGr",
        "outputId": "858110e0-aa38-42ea-9d1e-363ffb421807"
      },
      "execution_count": 44,
      "outputs": [
        {
          "output_type": "stream",
          "name": "stdout",
          "text": [
            "['abc,', 'def,', 'hti,']\n"
          ]
        }
      ]
    },
    {
      "cell_type": "code",
      "source": [],
      "metadata": {
        "id": "GmisEEG-DVM7"
      },
      "execution_count": null,
      "outputs": []
    }
  ]
}