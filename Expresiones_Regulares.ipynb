{
  "nbformat": 4,
  "nbformat_minor": 0,
  "metadata": {
    "colab": {
      "provenance": [],
      "authorship_tag": "ABX9TyP5tweonDcvnQkhi+4jcrDB",
      "include_colab_link": true
    },
    "kernelspec": {
      "name": "python3",
      "display_name": "Python 3"
    },
    "language_info": {
      "name": "python"
    }
  },
  "cells": [
    {
      "cell_type": "markdown",
      "metadata": {
        "id": "view-in-github",
        "colab_type": "text"
      },
      "source": [
        "<a href=\"https://colab.research.google.com/github/artthuro6/Regex/blob/main/Expresiones_Regulares.ipynb\" target=\"_parent\"><img src=\"https://colab.research.google.com/assets/colab-badge.svg\" alt=\"Open In Colab\"/></a>"
      ]
    },
    {
      "cell_type": "code",
      "execution_count": null,
      "metadata": {
        "id": "FXL-Wnphkv7S"
      },
      "outputs": [],
      "source": [
        "import re"
      ]
    },
    {
      "cell_type": "code",
      "source": [
        "text = 'Hola mundo1996'\n",
        "text2 = 'Los archivos de 10101Python se llaman módulos 09092y se identifican 12345mediante la 123extensión de archivo .py. Un módulo puede definir funciones, clases y variables.'\n",
        "text3 = ' Todoas 1998 123.com @gail .hotmail'\n",
        "exadecimal = '0123456789ABCDEF1112131415161718191A1B1C1S1E1FA1A2A3A4'"
      ],
      "metadata": {
        "id": "5RRAZQRemb-4"
      },
      "execution_count": 38,
      "outputs": []
    },
    {
      "cell_type": "markdown",
      "source": [
        "\n",
        "### Utilizar un . Selecciona todos los caracteres dentro del texto"
      ],
      "metadata": {
        "id": "_i8KzyKGRDrF"
      }
    },
    {
      "cell_type": "code",
      "source": [
        "x = re.findall(\".\", text)\n",
        "print(x)\n"
      ],
      "metadata": {
        "colab": {
          "base_uri": "https://localhost:8080/"
        },
        "id": "uynAb3dfpQTi",
        "outputId": "fde13bcc-2a6a-481f-d6a5-a6bee01c3a54"
      },
      "execution_count": null,
      "outputs": [
        {
          "output_type": "stream",
          "name": "stdout",
          "text": [
            "['H', 'o', 'l', 'a', ' ', 'm', 'u', 'n', 'd', 'o', '1', '9', '9', '6']\n"
          ]
        }
      ]
    },
    {
      "cell_type": "markdown",
      "source": [
        "### DIGITOS\n",
        "\n",
        "###Selecciona todo los digitos usando d iniscula"
      ],
      "metadata": {
        "id": "dSPHQzHTVtMd"
      }
    },
    {
      "cell_type": "code",
      "source": [
        "# \\d - Toodos loos digitos del 0 al 9\n",
        "x = re.findall('\\d', text)\n",
        "print( x )"
      ],
      "metadata": {
        "id": "c-4vB-wcvK6U",
        "colab": {
          "base_uri": "https://localhost:8080/"
        },
        "outputId": "f5daac94-e05f-4961-b8a3-ab4dccadc2c3"
      },
      "execution_count": null,
      "outputs": [
        {
          "output_type": "stream",
          "name": "stdout",
          "text": [
            "['1', '9', '9', '6']\n"
          ]
        }
      ]
    },
    {
      "cell_type": "code",
      "source": [
        "# w - Todos los caracteres de la A - Z. ayuscula y minuscula. Y del 0 al 9\n",
        "print( re.findall('\\w', text) )"
      ],
      "metadata": {
        "colab": {
          "base_uri": "https://localhost:8080/"
        },
        "id": "8vbiC92TUOS5",
        "outputId": "6928c0b6-e498-43f7-8700-a156dfb2f4be"
      },
      "execution_count": null,
      "outputs": [
        {
          "output_type": "stream",
          "name": "stdout",
          "text": [
            "['H', 'o', 'l', 'a', 'm', 'u', 'n', 'd', 'o', '1', '9', '9', '6']\n"
          ]
        }
      ]
    },
    {
      "cell_type": "code",
      "source": [
        "# \\s - Seleccionar los espacios\n",
        "print( re.findall('\\s', text2) )"
      ],
      "metadata": {
        "id": "ZYHllblDWjwq",
        "colab": {
          "base_uri": "https://localhost:8080/"
        },
        "outputId": "748ae23a-630f-459e-c802-9f164e2939fd"
      },
      "execution_count": 31,
      "outputs": [
        {
          "output_type": "stream",
          "name": "stdout",
          "text": [
            "[' ', ' ', ' ', ' ', ' ', ' ', ' ', ' ', ' ', ' ', ' ', ' ', ' ', ' ', ' ', ' ', ' ', ' ', ' ', ' ', ' ', ' ', ' ']\n"
          ]
        }
      ]
    },
    {
      "cell_type": "code",
      "source": [
        "#[0-9] - Seleccionando todos los digitos especificammente del 0 al 9\n",
        "print( re.findall('[0-9]', text2) )"
      ],
      "metadata": {
        "colab": {
          "base_uri": "https://localhost:8080/"
        },
        "id": "7xKUp0YFXXWv",
        "outputId": "688adc3b-6a3f-4dee-a8f8-0d3af37555d0"
      },
      "execution_count": 33,
      "outputs": [
        {
          "output_type": "stream",
          "name": "stdout",
          "text": [
            "['1', '0', '1', '0', '1', '0', '9', '0', '9', '2', '1', '2', '3', '4', '5', '1', '2', '3']\n"
          ]
        }
      ]
    },
    {
      "cell_type": "markdown",
      "source": [
        "### Caracteres"
      ],
      "metadata": {
        "id": "9Q_YduXgYiOr"
      }
    },
    {
      "cell_type": "code",
      "source": [
        "# \\. - Escapara caracter (Punto como ejemplo)\n",
        "print( re.findall('[0-9\\.]', text3) )"
      ],
      "metadata": {
        "colab": {
          "base_uri": "https://localhost:8080/"
        },
        "id": "nVA2mr3XXx2_",
        "outputId": "2fd7af6d-dd81-464d-a2c4-d11a076629ca"
      },
      "execution_count": 37,
      "outputs": [
        {
          "output_type": "stream",
          "name": "stdout",
          "text": [
            "['1', '9', '9', '8', '1', '2', '3', '.', '.']\n"
          ]
        }
      ]
    },
    {
      "cell_type": "code",
      "source": [
        "print( re.findall('[1-9A-F]{2}', exadecimal) )"
      ],
      "metadata": {
        "colab": {
          "base_uri": "https://localhost:8080/"
        },
        "id": "V4rRknbNZJZ5",
        "outputId": "a7a57e3f-5206-491a-d1ab-24a048877d5d"
      },
      "execution_count": 40,
      "outputs": [
        {
          "output_type": "stream",
          "name": "stdout",
          "text": [
            "['12', '34', '56', '78', '9A', 'BC', 'DE', 'F1', '11', '21', '31', '41', '51', '61', '71', '81', '91', 'A1', 'B1', 'C1', '1E', '1F', 'A1', 'A2', 'A3', 'A4']\n"
          ]
        }
      ]
    },
    {
      "cell_type": "code",
      "source": [],
      "metadata": {
        "id": "yZmkhHlvbVRI"
      },
      "execution_count": null,
      "outputs": []
    },
    {
      "cell_type": "markdown",
      "source": [
        "### Delimitadores"
      ],
      "metadata": {
        "id": "6nevhzJycFRl"
      }
    },
    {
      "cell_type": "code",
      "source": [
        "# Selecciona un o as digitos y al final contenga una letra\n",
        "print( re.findall('\\d+[a-z]', text2) )"
      ],
      "metadata": {
        "colab": {
          "base_uri": "https://localhost:8080/"
        },
        "id": "sV5ghtjmcHBo",
        "outputId": "ddf15ffb-d90a-4874-ba2f-f0a404d8af7f"
      },
      "execution_count": 43,
      "outputs": [
        {
          "output_type": "stream",
          "name": "stdout",
          "text": [
            "['09092y', '12345m', '123e']\n"
          ]
        }
      ]
    },
    {
      "cell_type": "code",
      "source": [],
      "metadata": {
        "id": "5fuPZt6bdIJf"
      },
      "execution_count": null,
      "outputs": []
    }
  ]
}